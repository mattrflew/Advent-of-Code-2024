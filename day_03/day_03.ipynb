{
 "cells": [
  {
   "cell_type": "markdown",
   "metadata": {},
   "source": [
    "# Day 3: Mull It Over"
   ]
  },
  {
   "cell_type": "code",
   "execution_count": 2,
   "metadata": {},
   "outputs": [],
   "source": [
    "import re"
   ]
  },
  {
   "cell_type": "markdown",
   "metadata": {},
   "source": [
    "## Part 1\n",
    "\n",
    "\"Our computers are having issues, so I have no idea if we have any Chief Historians in stock! You're welcome to check the warehouse, though,\" says the mildly flustered shopkeeper at the North Pole Toboggan Rental Shop. The Historians head out to take a look.\n",
    "\n",
    "The shopkeeper turns to you. \"Any chance you can see why our computers are having issues again?\"\n",
    "\n",
    "The computer appears to be trying to run a program, but its memory (your puzzle input) is corrupted. All of the instructions have been jumbled up!\n",
    "\n",
    "It seems like the goal of the program is just to multiply some numbers. It does that with instructions like mul(X,Y), where X and Y are each 1-3 digit numbers. For instance, mul(44,46) multiplies 44 by 46 to get a result of 2024. Similarly, mul(123,4) would multiply 123 by 4.\n",
    "\n",
    "However, because the program's memory has been corrupted, there are also many invalid characters that should be ignored, even if they look like part of a mul instruction. Sequences like mul(4*, mul(6,9!, ?(12,34), or mul ( 2 , 4 ) do nothing.\n",
    "\n",
    "For example, consider the following section of corrupted memory:\n",
    "\n",
    "xmul(2,4)%&mul[3,7]!@^do_not_mul(5,5)+mul(32,64]then(mul(11,8)mul(8,5))\n",
    "\n",
    "Only the four highlighted sections are real mul instructions. Adding up the result of each instruction produces 161 (2*4 + 5*5 + 11*8 + 8*5).\n",
    "\n",
    "Scan the corrupted memory for uncorrupted mul instructions. What do you get if you add up all of the results of the multiplications?"
   ]
  },
  {
   "cell_type": "code",
   "execution_count": 3,
   "metadata": {},
   "outputs": [
    {
     "data": {
      "text/plain": [
       "161"
      ]
     },
     "execution_count": 3,
     "metadata": {},
     "output_type": "execute_result"
    }
   ],
   "source": [
    "def sum_multiplications_part_1(file_path):\n",
    "    # Read in data file line by line\n",
    "    data = ''\n",
    "    with open(file_path, 'r') as file:\n",
    "        for line in file:\n",
    "            data += line\n",
    "    \n",
    "    # Regex pattern\n",
    "    pattern = r\"mul\\((\\d{1,3}),(\\d{1,3})\\)\"\n",
    "\n",
    "    # Find all matches\n",
    "    matches = re.findall(pattern, data)\n",
    "\n",
    "    # Convert the matches to a list with integers\n",
    "    result = [[int(x), int(y)] for x, y in matches]\n",
    "\n",
    "    total = 0 \n",
    "    for pair in result:\n",
    "        total += pair[0]*pair[1]\n",
    "\n",
    "    return total\n",
    "\n",
    "sum_multiplications_part_1('example_input_part_1.txt')"
   ]
  },
  {
   "cell_type": "code",
   "execution_count": 4,
   "metadata": {},
   "outputs": [
    {
     "data": {
      "text/plain": [
       "156388521"
      ]
     },
     "execution_count": 4,
     "metadata": {},
     "output_type": "execute_result"
    }
   ],
   "source": [
    "sum_multiplications_part_1('input.txt')"
   ]
  },
  {
   "cell_type": "markdown",
   "metadata": {},
   "source": [
    "## Part 2\n",
    "\n",
    "As you scan through the corrupted memory, you notice that some of the conditional statements are also still intact. If you handle some of the uncorrupted conditional statements in the program, you might be able to get an even more accurate result.\n",
    "\n",
    "There are two new instructions you'll need to handle:\n",
    "\n",
    "    The do() instruction enables future mul instructions.\n",
    "    The don't() instruction disables future mul instructions.\n",
    "\n",
    "Only the most recent do() or don't() instruction applies. At the beginning of the program, mul instructions are enabled.\n",
    "\n",
    "For example:\n",
    "\n",
    "xmul(2,4)&mul[3,7]!^don't()_mul(5,5)+mul(32,64](mul(11,8)undo()?mul(8,5))\n",
    "\n",
    "This corrupted memory is similar to the example from before, but this time the mul(5,5) and mul(11,8) instructions are disabled because there is a don't() instruction before them. The other mul instructions function normally, including the one at the end that gets re-enabled by a do() instruction.\n",
    "\n",
    "This time, the sum of the results is 48 (2*4 + 8*5).\n",
    "\n",
    "Handle the new instructions; what do you get if you add up all of the results of just the enabled multiplications?"
   ]
  },
  {
   "cell_type": "code",
   "execution_count": 15,
   "metadata": {},
   "outputs": [],
   "source": [
    "def sum_multiplications(file_path):\n",
    "    # Read in data file line by line\n",
    "    data = ''\n",
    "    with open(file_path, 'r') as file:\n",
    "        for line in file:\n",
    "            data += line\n",
    "            \n",
    "    # regex patterns\n",
    "    mul_pattern = re.compile(r\"mul\\((\\d{1,3}),(\\d{1,3})\\)\")\n",
    "    control_pattern = re.compile(r\"(do\\(\\)|don't\\(\\))\")\n",
    "    \n",
    "    # Initialise\n",
    "    pos = 0\n",
    "    total = 0\n",
    "    enabled = True\n",
    "    \n",
    "    while pos < len(data):\n",
    "        control_match = control_pattern.search(data, pos)\n",
    "        \n",
    "        if control_match and control_match.start() == pos:\n",
    "                    if control_match.group() == \"do()\":\n",
    "                        enabled = True\n",
    "                    elif control_match.group() == \"don't()\":\n",
    "                        enabled = False\n",
    "                    pos = control_match.end()\n",
    "                    continue\n",
    "        \n",
    "        mul_match = mul_pattern.search(data, pos)\n",
    "        if mul_match and mul_match.start() == pos:\n",
    "            if enabled:\n",
    "\n",
    "                x = int(mul_match.group(1))\n",
    "                y = int(mul_match.group(2))\n",
    "                total += x * y\n",
    "            pos = mul_match.end()  # Move position past this match\n",
    "            continue\n",
    "        \n",
    "        # Move forward if no matches are found\n",
    "        pos += 1\n",
    "    \n",
    "    return total\n",
    "    "
   ]
  },
  {
   "cell_type": "code",
   "execution_count": 17,
   "metadata": {},
   "outputs": [
    {
     "data": {
      "text/plain": [
       "75920122"
      ]
     },
     "execution_count": 17,
     "metadata": {},
     "output_type": "execute_result"
    }
   ],
   "source": [
    "sum_multiplications('input.txt')"
   ]
  },
  {
   "cell_type": "code",
   "execution_count": 7,
   "metadata": {},
   "outputs": [
    {
     "name": "stdout",
     "output_type": "stream",
     "text": [
      "[(0, 11), (16, 26), (32, 42)]\n"
     ]
    }
   ],
   "source": [
    "# Example string\n",
    "input_string = \"mul(123,45) and mul(7,890) with mul(12,34) are examples.\"\n",
    "\n",
    "# Regular expression pattern\n",
    "pattern = r\"mul\\((\\d{1,3}),(\\d{1,3})\\)\"\n",
    "\n",
    "# Find all matches with indices\n",
    "matches = [(match.start(), match.end()) for match in re.finditer(pattern, input_string)]\n",
    "\n",
    "# Print the result\n",
    "print(matches)"
   ]
  },
  {
   "cell_type": "code",
   "execution_count": 8,
   "metadata": {},
   "outputs": [
    {
     "data": {
      "text/plain": [
       "[(20, 27)]"
      ]
     },
     "execution_count": 8,
     "metadata": {},
     "output_type": "execute_result"
    }
   ],
   "source": [
    "# Example string\n",
    "input_string = \"xmul(2,4)&mul[3,7]!^don't()_mul(5,5)+mul(32,64](mul(11,8)undo()?mul(8,5))\"\n",
    "\n",
    "# Regular expression pattern\n",
    "pattern_dont = r\"don't\\(\\)\"\n",
    "\n",
    "# Find the matches and their indices\n",
    "end_indices = [(match.start(), match.end()) for match in re.finditer(pattern_dont, input_string)]\n",
    "\n",
    "end_indices"
   ]
  },
  {
   "cell_type": "code",
   "execution_count": 12,
   "metadata": {},
   "outputs": [
    {
     "data": {
      "text/plain": [
       "[(59, 63)]"
      ]
     },
     "execution_count": 12,
     "metadata": {},
     "output_type": "execute_result"
    }
   ],
   "source": [
    "# Regular expression pattern\n",
    "pattern_do = r\"do\\(\\)\"\n",
    "\n",
    "# Find the matches and their indices\n",
    "end_indices = [(match.start(), match.end()) for match in re.finditer(pattern_do, input_string)]\n",
    "\n",
    "end_indices"
   ]
  }
 ],
 "metadata": {
  "kernelspec": {
   "display_name": "py312",
   "language": "python",
   "name": "python3"
  },
  "language_info": {
   "codemirror_mode": {
    "name": "ipython",
    "version": 3
   },
   "file_extension": ".py",
   "mimetype": "text/x-python",
   "name": "python",
   "nbconvert_exporter": "python",
   "pygments_lexer": "ipython3",
   "version": "3.12.5"
  }
 },
 "nbformat": 4,
 "nbformat_minor": 2
}
