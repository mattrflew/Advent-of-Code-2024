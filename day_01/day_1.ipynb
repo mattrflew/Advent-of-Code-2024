{
 "cells": [
  {
   "cell_type": "markdown",
   "metadata": {},
   "source": [
    "# Day 1"
   ]
  },
  {
   "cell_type": "code",
   "execution_count": 1,
   "metadata": {},
   "outputs": [],
   "source": [
    "import numpy as np"
   ]
  },
  {
   "cell_type": "markdown",
   "metadata": {},
   "source": [
    "# Part 1\n",
    "## Finding the sum of distances between two columns in list\n",
    "- Pair up the smallest number in left list with smallest number in the right list. Second-smallest in left list, second-smallest in right list, etc.\n",
    "- Find the distance between each pair\n",
    "- Sum all the distances\n",
    "\n",
    "Expected total distance output for example_input.txt is 11"
   ]
  },
  {
   "cell_type": "code",
   "execution_count": 2,
   "metadata": {},
   "outputs": [
    {
     "data": {
      "text/plain": [
       "array([[3, 4],\n",
       "       [4, 3],\n",
       "       [2, 5],\n",
       "       [1, 3],\n",
       "       [3, 9],\n",
       "       [3, 3]])"
      ]
     },
     "execution_count": 2,
     "metadata": {},
     "output_type": "execute_result"
    }
   ],
   "source": [
    "data = np.loadtxt('example_input.txt', dtype=int)\n",
    "\n",
    "data"
   ]
  },
  {
   "cell_type": "code",
   "execution_count": 3,
   "metadata": {},
   "outputs": [
    {
     "name": "stdout",
     "output_type": "stream",
     "text": [
      "11\n"
     ]
    }
   ],
   "source": [
    "left_list = np.sort(data[:,0])\n",
    "right_list = np.sort(data[:,1])\n",
    "\n",
    "distances = abs(left_list - right_list)\n",
    "\n",
    "total_dist = sum(distances)\n",
    "\n",
    "print(total_dist)"
   ]
  },
  {
   "cell_type": "markdown",
   "metadata": {},
   "source": [
    "Turn it into a function"
   ]
  },
  {
   "cell_type": "code",
   "execution_count": 4,
   "metadata": {},
   "outputs": [],
   "source": [
    "def total_distance(file_path):\n",
    "    # Read in\n",
    "    data = np.loadtxt(file_path, dtype=int)\n",
    "    \n",
    "    # Split by column and sort\n",
    "    left_list = np.sort(data[:,0])\n",
    "    right_list = np.sort(data[:,1])\n",
    "\n",
    "    # Sum absolute differences\n",
    "    distances = abs(left_list - right_list)\n",
    "    return sum(distances)"
   ]
  },
  {
   "cell_type": "code",
   "execution_count": 5,
   "metadata": {},
   "outputs": [
    {
     "data": {
      "text/plain": [
       "11"
      ]
     },
     "execution_count": 5,
     "metadata": {},
     "output_type": "execute_result"
    }
   ],
   "source": [
    "total_distance('example_input.txt')"
   ]
  },
  {
   "cell_type": "code",
   "execution_count": 6,
   "metadata": {},
   "outputs": [
    {
     "name": "stdout",
     "output_type": "stream",
     "text": [
      "Total distance: 2285373\n"
     ]
    }
   ],
   "source": [
    "total_dist = total_distance('input.txt')\n",
    "\n",
    "print(f'Total distance: {total_dist}')"
   ]
  },
  {
   "cell_type": "markdown",
   "metadata": {},
   "source": [
    "# Part 2\n",
    "## Calculating similarity score between two columns in list\n",
    "\n",
    "Add up each number in the left list after multiplying it by the number of times that number appears in the right list.\n",
    "\n",
    "Expected similarity score output for example_input.txt is 31"
   ]
  },
  {
   "cell_type": "code",
   "execution_count": 7,
   "metadata": {},
   "outputs": [],
   "source": [
    "def similarity_score(file_path):\n",
    "    # Read in\n",
    "    data = np.loadtxt(file_path, dtype=int)\n",
    "    \n",
    "    # Split into columns\n",
    "    left_list = data[:,0]\n",
    "    right_list = data[:,1]\n",
    "\n",
    "    # value and counts of occurances in right_list\n",
    "    unique, counts = np.unique(right_list, return_counts=True)\n",
    "\n",
    "    # For each element of left_list, if it is in right_list multiply by number of occurances and add to score\n",
    "    score = 0 \n",
    "    for num in left_list:\n",
    "        if num in unique:\n",
    "            idx = np.where(unique == num)[0][0]\n",
    "            score += num*counts[idx]\n",
    "            \n",
    "    return score"
   ]
  },
  {
   "cell_type": "code",
   "execution_count": 8,
   "metadata": {},
   "outputs": [
    {
     "data": {
      "text/plain": [
       "31"
      ]
     },
     "execution_count": 8,
     "metadata": {},
     "output_type": "execute_result"
    }
   ],
   "source": [
    "similarity_score('example_input.txt')"
   ]
  },
  {
   "cell_type": "code",
   "execution_count": 9,
   "metadata": {},
   "outputs": [
    {
     "data": {
      "text/plain": [
       "21142653"
      ]
     },
     "execution_count": 9,
     "metadata": {},
     "output_type": "execute_result"
    }
   ],
   "source": [
    "similarity_score('input.txt')"
   ]
  }
 ],
 "metadata": {
  "kernelspec": {
   "display_name": "py312",
   "language": "python",
   "name": "python3"
  },
  "language_info": {
   "codemirror_mode": {
    "name": "ipython",
    "version": 3
   },
   "file_extension": ".py",
   "mimetype": "text/x-python",
   "name": "python",
   "nbconvert_exporter": "python",
   "pygments_lexer": "ipython3",
   "version": "3.12.5"
  }
 },
 "nbformat": 4,
 "nbformat_minor": 2
}
